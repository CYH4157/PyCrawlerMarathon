{
 "cells": [
  {
   "cell_type": "markdown",
   "metadata": {},
   "source": [
    "# API 資料串接 - 以 Dcard API 實作範例\n",
    "\n",
    "* 了解 Dcard API 使用方式與回傳內容\n",
    "* 撰寫程式存取 API 且解析 JSON 格式資料\n"
   ]
  },
  {
   "cell_type": "markdown",
   "metadata": {},
   "source": [
    "## 作業目標\n",
    "\n",
    "* 請利用 API: https://www.dcard.tw/_api/forums/pet/posts?popular=true 回答下列問題：\n",
    "\n",
    "1. 這個 API 一次會回傳幾筆資料？每一筆資料包含哪些欄位？\n",
    "2. 取出每一筆資料的「標題」、「貼文時間」、「留言人數」、「按讚人數」\n",
    "3. 計算熱門/非熱門文章的「平均留言人數」與「平均按讚人數」"
   ]
  },
  {
   "cell_type": "code",
   "execution_count": 10,
   "metadata": {},
   "outputs": [],
   "source": [
    "import requests\n",
    "import json"
   ]
  },
  {
   "cell_type": "code",
   "execution_count": 11,
   "metadata": {},
   "outputs": [
    {
     "name": "stdout",
     "output_type": "stream",
     "text": [
      "一次回傳30筆資料\n",
      "欄位id ,欄位title ,欄位excerpt ,欄位anonymousSchool ,欄位anonymousDepartment ,欄位pinned ,欄位forumId ,欄位replyId ,欄位createdAt ,欄位updatedAt ,欄位commentCount ,欄位likeCount ,欄位withNickname ,欄位tags ,欄位topics ,欄位meta ,欄位forumName ,欄位forumAlias ,欄位nsfw ,欄位gender ,欄位school ,欄位replyTitle ,欄位mediaMeta ,欄位reactions ,欄位hidden ,欄位customStyle ,欄位isSuspiciousAccount ,欄位isModerator ,欄位layout ,欄位spoilerAlert ,欄位enablePrivateMessage ,欄位totalCommentCount ,欄位withImages ,欄位withVideos ,欄位media ,欄位reportReasonText ,欄位excerptComments ,欄位postAvatar ,欄位activityAvatar ,欄位verifiedBadge ,欄位memberType ,"
     ]
    }
   ],
   "source": [
    "# 1. 這個 API 一次會回傳幾筆資料？每一筆資料包含哪些欄位？\n",
    "re = requests.get(\"https://www.dcard.tw/_api/forums/pet/posts?popular=true\")\n",
    "data = json.loads(re.text)\n",
    "print(\"一次回傳\" + str(len(data)) + \"筆資料\")\n",
    "for key in data[0]:\n",
    "    print(\"欄位\"+ key, end= \" ,\")"
   ]
  },
  {
   "cell_type": "code",
   "execution_count": 12,
   "metadata": {},
   "outputs": [
    {
     "name": "stdout",
     "output_type": "stream",
     "text": [
      "標題: 拜託不會養貓就不要亂養(被釣魚......), 貼文時間： 2021-07-30T21:07:38.266Z, 留言人數: 122, 按讚人數: 287\n",
      "標題: 剛領養的貓看到我就躲🥲, 貼文時間： 2021-07-31T06:22:41.289Z, 留言人數: 41, 按讚人數: 213\n",
      "標題: 有禮貌與沒禮貌的貓, 貼文時間： 2021-07-31T05:19:39.663Z, 留言人數: 8, 按讚人數: 130\n",
      "標題: 兔子真的很好用, 貼文時間： 2021-07-31T16:46:02.382Z, 留言人數: 6, 按讚人數: 77\n",
      "標題: 最近帶了一隻小花貓回家, 貼文時間： 2021-07-31T13:43:26.771Z, 留言人數: 10, 按讚人數: 48\n",
      "標題: 小幼貓送養 （橘貓/黑白）, 貼文時間： 2021-07-31T00:40:44.635Z, 留言人數: 8, 按讚人數: 41\n",
      "標題: 會你丟我撿的小貓咪🐶, 貼文時間： 2021-07-31T03:20:34.746Z, 留言人數: 4, 按讚人數: 38\n",
      "標題: 狗狗和貓貓混養, 貼文時間： 2021-07-31T03:31:55.614Z, 留言人數: 10, 按讚人數: 25\n",
      "標題: 史上最短的逗貓棒開箱, 貼文時間： 2021-07-31T07:42:07.617Z, 留言人數: 5, 按讚人數: 24\n",
      "標題: 我家貓貓今天一歲生日！！！, 貼文時間： 2021-07-31T11:13:43.346Z, 留言人數: 3, 按讚人數: 21\n",
      "標題: 台灣贏了 我家天竺鼠笑了, 貼文時間： 2021-07-31T14:14:37.278Z, 留言人數: 0, 按讚人數: 18\n",
      "標題: 貓咪不吃飼料以外的任何食物怎麼辦？, 貼文時間： 2021-07-31T04:44:45.459Z, 留言人數: 11, 按讚人數: 18\n",
      "標題: 有人家的貓會這樣嗎, 貼文時間： 2021-07-31T16:44:56.722Z, 留言人數: 6, 按讚人數: 16\n",
      "標題: 神秘生物, 貼文時間： 2021-07-31T16:22:37.192Z, 留言人數: 5, 按讚人數: 16\n",
      "標題: 我也有大鼠啦🥰（不喜勿入）, 貼文時間： 2021-07-31T10:33:01.827Z, 留言人數: 7, 按讚人數: 15\n",
      "標題: 求領養科基犬, 貼文時間： 2021-07-31T06:16:01.229Z, 留言人數: 8, 按讚人數: 15\n",
      "標題: 接受制裁吧！喵, 貼文時間： 2021-07-31T13:40:59.724Z, 留言人數: 5, 按讚人數: 14\n",
      "標題: 發現對面住戶把小貓關在窗外, 貼文時間： 2021-07-31T14:22:32.620Z, 留言人數: 9, 按讚人數: 11\n",
      "標題: 尋！貓咪失蹤！！, 貼文時間： 2021-07-31T01:07:44.468Z, 留言人數: 3, 按讚人數: 10\n",
      "標題: 狗頭上長東西, 貼文時間： 2021-07-31T09:54:23.349Z, 留言人數: 8, 按讚人數: 9\n",
      "標題: 尋貓啟事 台中西區 虎斑（已找到 謝謝大家）, 貼文時間： 2021-07-31T14:40:50.201Z, 留言人數: 6, 按讚人數: 9\n",
      "標題: 一支腿的貓貓找家🥺, 貼文時間： 2021-07-31T19:50:47.853Z, 留言人數: 1, 按讚人數: 7\n",
      "標題: 第一次跟養貓、跟貓培養感情經驗(´･ω･`), 貼文時間： 2021-08-01T02:53:13.576Z, 留言人數: 1, 按讚人數: 6\n",
      "標題: 好好拍照有多難ಥ_ಥ, 貼文時間： 2021-07-31T18:54:31.189Z, 留言人數: 4, 按讚人數: 6\n",
      "標題: 亂丟垃圾變「血滴子」！ 食蟹獴頭卡鐵罐內差點沒命, 貼文時間： 2021-07-31T12:06:48.166Z, 留言人數: 1, 按讚人數: 6\n",
      "標題: #詢問 狗狗趾間炎, 貼文時間： 2021-07-31T05:09:37.258Z, 留言人數: 7, 按讚人數: 6\n",
      "標題: 貓咪做夢, 貼文時間： 2021-07-31T13:39:00.665Z, 留言人數: 2, 按讚人數: 5\n",
      "標題: 桃園推薦動物醫院, 貼文時間： 2021-07-31T05:39:45.753Z, 留言人數: 6, 按讚人數: 5\n",
      "標題: 求推薦胸背帶！內有三位選手, 貼文時間： 2021-07-31T13:51:04.725Z, 留言人數: 9, 按讚人數: 4\n",
      "標題: 咕嚕的表情, 貼文時間： 2021-07-31T05:41:29.953Z, 留言人數: 0, 按讚人數: 4\n"
     ]
    }
   ],
   "source": [
    "# 2. 取出每一筆資料的「標題」、「貼文時間」、「留言人數」、「按讚人數」\n",
    "for infos in data:\n",
    "    print(\"標題: {}, 貼文時間： {}, 留言人數: {}, 按讚人數: {}\".format(infos['title'], infos['updatedAt'], infos['commentCount'],\n",
    "                                                        infos['likeCount']))"
   ]
  },
  {
   "cell_type": "code",
   "execution_count": 13,
   "metadata": {},
   "outputs": [
    {
     "name": "stdout",
     "output_type": "stream",
     "text": [
      "平均留言人數: 10.533333333333333 平均按讚人數: 36.8\n"
     ]
    }
   ],
   "source": [
    "# 3. 計算熱門/非熱門文章的「平均留言人數」與「平均按讚人數」\n",
    "comm_total = 0\n",
    "like_total = 0\n",
    "for infos in data:\n",
    "    comm_total += infos['commentCount']\n",
    "    like_total += infos['likeCount']\n",
    "\n",
    "print(\"平均留言人數: \" + str(comm_total/len(data)), \"平均按讚人數: \" + str(float(like_total/len(data))))"
   ]
  },
  {
   "cell_type": "code",
   "execution_count": null,
   "metadata": {},
   "outputs": [],
   "source": []
  },
  {
   "cell_type": "code",
   "execution_count": null,
   "metadata": {},
   "outputs": [],
   "source": []
  }
 ],
 "metadata": {
  "kernelspec": {
   "display_name": "Python 3",
   "language": "python",
   "name": "python3"
  },
  "language_info": {
   "codemirror_mode": {
    "name": "ipython",
    "version": 3
   },
   "file_extension": ".py",
   "mimetype": "text/x-python",
   "name": "python",
   "nbconvert_exporter": "python",
   "pygments_lexer": "ipython3",
   "version": "3.8.8"
  }
 },
 "nbformat": 4,
 "nbformat_minor": 2
}
